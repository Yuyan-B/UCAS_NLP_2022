{
 "cells": [
  {
   "cell_type": "code",
   "execution_count": 1,
   "metadata": {},
   "outputs": [],
   "source": [
    "import pandas as pd\n",
    "import os\n",
    "import numpy\n"
   ]
  },
  {
   "cell_type": "code",
   "execution_count": 4,
   "metadata": {},
   "outputs": [],
   "source": [
    "pd_trainset=pd.read_csv(\"E:/研一/上课/自然语言处理/大作业/data/starting_ki/train_all_tasks.csv\")"
   ]
  },
  {
   "cell_type": "code",
   "execution_count": 23,
   "metadata": {},
   "outputs": [],
   "source": [
    "pd.set_option('display.max_rows',10)"
   ]
  },
  {
   "cell_type": "code",
   "execution_count": 7,
   "metadata": {},
   "outputs": [
    {
     "data": {
      "text/plain": [
       "label_sexist\n",
       "not sexist    10602\n",
       "sexist         3398\n",
       "Name: rewire_id, dtype: int64"
      ]
     },
     "execution_count": 7,
     "metadata": {},
     "output_type": "execute_result"
    }
   ],
   "source": [
    "pd_trainset.groupby('label_sexist')['rewire_id'].count()"
   ]
  },
  {
   "cell_type": "code",
   "execution_count": 11,
   "metadata": {},
   "outputs": [
    {
     "data": {
      "text/plain": [
       "label_category\n",
       "1. threats, plans to harm and incitement     310\n",
       "2. derogation                               1590\n",
       "3. animosity                                1165\n",
       "4. prejudiced discussions                    333\n",
       "Name: rewire_id, dtype: int64"
      ]
     },
     "execution_count": 11,
     "metadata": {},
     "output_type": "execute_result"
    }
   ],
   "source": [
    "pd_trainset[pd_trainset['label_sexist']=='sexist'].groupby('label_category')['rewire_id'].count()"
   ]
  },
  {
   "cell_type": "code",
   "execution_count": 12,
   "metadata": {},
   "outputs": [
    {
     "data": {
      "text/plain": [
       "label_vector\n",
       "1.1 threats of harm                                                 56\n",
       "1.2 incitement and encouragement of harm                           254\n",
       "2.1 descriptive attacks                                            717\n",
       "2.2 aggressive and emotive attacks                                 673\n",
       "2.3 dehumanising attacks & overt sexual objectification            200\n",
       "3.1 casual use of gendered slurs, profanities, and insults         637\n",
       "3.2 immutable gender differences and gender stereotypes            417\n",
       "3.3 backhanded gendered compliments                                 64\n",
       "3.4 condescending explanations or unwelcome advice                  47\n",
       "4.1 supporting mistreatment of individual women                     75\n",
       "4.2 supporting systemic discrimination against women as a group    258\n",
       "Name: rewire_id, dtype: int64"
      ]
     },
     "execution_count": 12,
     "metadata": {},
     "output_type": "execute_result"
    }
   ],
   "source": [
    "pd_trainset[pd_trainset['label_sexist']=='sexist'].groupby('label_vector')['rewire_id'].count()\n"
   ]
  },
  {
   "cell_type": "code",
   "execution_count": 21,
   "metadata": {},
   "outputs": [
    {
     "name": "stdout",
     "output_type": "stream",
     "text": [
      "8    just the inside of your wallet: cash, bank car...\n",
      "Name: text, dtype: object\n"
     ]
    }
   ],
   "source": [
    "print(pd_trainset[pd_trainset['label_sexist']=='sexist']['text'].head(1))"
   ]
  },
  {
   "cell_type": "code",
   "execution_count": 24,
   "metadata": {},
   "outputs": [
    {
     "data": {
      "text/html": [
       "<div>\n",
       "<style scoped>\n",
       "    .dataframe tbody tr th:only-of-type {\n",
       "        vertical-align: middle;\n",
       "    }\n",
       "\n",
       "    .dataframe tbody tr th {\n",
       "        vertical-align: top;\n",
       "    }\n",
       "\n",
       "    .dataframe thead th {\n",
       "        text-align: right;\n",
       "    }\n",
       "</style>\n",
       "<table border=\"1\" class=\"dataframe\">\n",
       "  <thead>\n",
       "    <tr style=\"text-align: right;\">\n",
       "      <th></th>\n",
       "      <th>rewire_id</th>\n",
       "      <th>text</th>\n",
       "      <th>label_sexist</th>\n",
       "      <th>label_category</th>\n",
       "      <th>label_vector</th>\n",
       "    </tr>\n",
       "  </thead>\n",
       "  <tbody>\n",
       "    <tr>\n",
       "      <th>0</th>\n",
       "      <td>sexism2022_english-7358</td>\n",
       "      <td>Damn, this writing was pretty chaotic</td>\n",
       "      <td>not sexist</td>\n",
       "      <td>none</td>\n",
       "      <td>none</td>\n",
       "    </tr>\n",
       "    <tr>\n",
       "      <th>1</th>\n",
       "      <td>sexism2022_english-2367</td>\n",
       "      <td>Yeah, and apparently a bunch of misogynistic v...</td>\n",
       "      <td>not sexist</td>\n",
       "      <td>none</td>\n",
       "      <td>none</td>\n",
       "    </tr>\n",
       "    <tr>\n",
       "      <th>...</th>\n",
       "      <td>...</td>\n",
       "      <td>...</td>\n",
       "      <td>...</td>\n",
       "      <td>...</td>\n",
       "      <td>...</td>\n",
       "    </tr>\n",
       "    <tr>\n",
       "      <th>13998</th>\n",
       "      <td>sexism2022_english-13309</td>\n",
       "      <td>It's not, the girls I go on dates with don't k...</td>\n",
       "      <td>not sexist</td>\n",
       "      <td>none</td>\n",
       "      <td>none</td>\n",
       "    </tr>\n",
       "    <tr>\n",
       "      <th>13999</th>\n",
       "      <td>sexism2022_english-12402</td>\n",
       "      <td>How can he be an incel? He does have a girlfri...</td>\n",
       "      <td>not sexist</td>\n",
       "      <td>none</td>\n",
       "      <td>none</td>\n",
       "    </tr>\n",
       "  </tbody>\n",
       "</table>\n",
       "<p>14000 rows × 5 columns</p>\n",
       "</div>"
      ],
      "text/plain": [
       "                      rewire_id  \\\n",
       "0       sexism2022_english-7358   \n",
       "1       sexism2022_english-2367   \n",
       "...                         ...   \n",
       "13998  sexism2022_english-13309   \n",
       "13999  sexism2022_english-12402   \n",
       "\n",
       "                                                    text label_sexist  \\\n",
       "0                  Damn, this writing was pretty chaotic   not sexist   \n",
       "1      Yeah, and apparently a bunch of misogynistic v...   not sexist   \n",
       "...                                                  ...          ...   \n",
       "13998  It's not, the girls I go on dates with don't k...   not sexist   \n",
       "13999  How can he be an incel? He does have a girlfri...   not sexist   \n",
       "\n",
       "      label_category label_vector  \n",
       "0               none         none  \n",
       "1               none         none  \n",
       "...              ...          ...  \n",
       "13998           none         none  \n",
       "13999           none         none  \n",
       "\n",
       "[14000 rows x 5 columns]"
      ]
     },
     "execution_count": 24,
     "metadata": {},
     "output_type": "execute_result"
    }
   ],
   "source": [
    "pd_trainset"
   ]
  },
  {
   "cell_type": "code",
   "execution_count": null,
   "metadata": {},
   "outputs": [],
   "source": []
  }
 ],
 "metadata": {
  "kernelspec": {
   "display_name": "Python 3.8.8 ('study')",
   "language": "python",
   "name": "python3"
  },
  "language_info": {
   "codemirror_mode": {
    "name": "ipython",
    "version": 3
   },
   "file_extension": ".py",
   "mimetype": "text/x-python",
   "name": "python",
   "nbconvert_exporter": "python",
   "pygments_lexer": "ipython3",
   "version": "3.8.8 (default, Apr 13 2021, 15:08:03) [MSC v.1916 64 bit (AMD64)]"
  },
  "orig_nbformat": 4,
  "vscode": {
   "interpreter": {
    "hash": "ed9f1a28aade276a92d1f03ffda25688ea46a43468a4597dfbd26b75bcb7e3a9"
   }
  }
 },
 "nbformat": 4,
 "nbformat_minor": 2
}
